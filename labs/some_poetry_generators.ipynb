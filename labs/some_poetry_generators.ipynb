{
  "cells": [
    {
      "cell_type": "markdown",
      "metadata": {
        "id": "sHuahJL4k0OH"
      },
      "source": [
        "# Implementations of early and well-known poetry generators\n",
        "\n",
        "*Original notebook by [Allison Parrish](http://www.decontextualize.com/). Adapted for ENG 790 / QTM 490 by Lauren Klein.*\n",
        "\n",
        "This notebook has some Python implementations of a number of early and well-known poetry generators, including Knowles and Tenney's *A House of Dust*, Strachey's love letter generator and Nick Montfort's *Taroko Gorge*."
      ]
    },
    {
      "cell_type": "markdown",
      "metadata": {
        "id": "_0nqV7jRk0OT"
      },
      "source": [
        "## To Make a Dadaist Poem\n",
        "\n",
        "Original written by [Tristan Tzara](http://www.391.org/manifestos/1920-dada-manifesto-feeble-love-bitter-love-tristan-tzara.html#.WnPkJYJOndd) in 1920."
      ]
    },
    {
      "cell_type": "code",
      "execution_count": 1,
      "metadata": {
        "colab": {
          "base_uri": "https://localhost:8080/"
        },
        "id": "ADDjlYTqk0OT",
        "outputId": "40c1cc78-f7ae-47c4-b813-9217c200b7ac"
      },
      "outputs": [
        {
          "output_type": "stream",
          "name": "stdout",
          "text": [
            "cultural war, beginnings an informal in a the in to\n",
            "bourgeois intellectual and that World — outbreak society I.\n",
            "against Dadaists nationalist the were war. international\n",
            "believed and Dada and with colonialist the movement, to\n",
            "North was which conformity in participants, correspond cause\n",
            "— the and more America. the many The War many broadly root\n",
            "against art interests, the participants Europe of was of For\n",
            "movement Dada corresponded of protest and the\n"
          ]
        }
      ],
      "source": [
        "# libraries we need\n",
        "import random # we've seen this one before\n",
        "import textwrap # this just lets us format text more nicely when we print it\n",
        "                # recall the previous notebook's emphasis on print statements \n",
        "                # you will realize why this is a helpful library \n",
        "\n",
        "# this creates a variable called \"newspaper\" and assigns the text that follows to it\n",
        "# the funny three-quote syntax is what you do if you have a long string and don't want it to run off the side of the page like this comment... \n",
        "newspaper = \"\"\"\n",
        "Dada was an informal international movement, with \n",
        "participants in Europe and North America. The \n",
        "beginnings of Dada correspond to the outbreak of \n",
        "World War I. For many participants, the movement \n",
        "was a protest against the bourgeois nationalist \n",
        "and colonialist interests, which many Dadaists \n",
        "believed were the root cause of the war, and \n",
        "against the cultural and intellectual \n",
        "conformity — in art and more broadly in \n",
        "society — that corresponded to the war.\"\"\"\n",
        "\n",
        "# this next line splits the contents of the \"newspaper\" variable into individual words\n",
        "words = newspaper.split()\n",
        "\n",
        "# this we've seen before... where?!  \n",
        "random.shuffle(words)\n",
        "\n",
        "# and this prints out the shuffled words using the textwrap method \n",
        "print(textwrap.fill(\" \".join(words), 60))"
      ]
    },
    {
      "cell_type": "markdown",
      "metadata": {
        "id": "hzUySENPk0OW"
      },
      "source": [
        "## A House of Dust\n",
        "\n",
        "Original written in Fortran in 1967 by Alison Knowles and James Tenney. [ELMCIP entry](https://elmcip.net/creative-work/house-dust). [More information](http://blog.calarts.edu/2009/09/10/alison-knowles-james-tenney-and-the-house-of-dust-at-calarts/). [Watch Alison Knowles read from this piece](https://www.youtube.com/watch?v=-68Z708lFsY)."
      ]
    },
    {
      "cell_type": "code",
      "execution_count": 2,
      "metadata": {
        "id": "uc866dGyk0OW"
      },
      "outputs": [],
      "source": [
        "# technically we don't need to re-import this one but might as well have it all in one place \n",
        "import random"
      ]
    },
    {
      "cell_type": "code",
      "execution_count": 3,
      "metadata": {
        "id": "C1WfpIHCk0OX"
      },
      "outputs": [],
      "source": [
        "# now we're creating a variable called \"materials\" and putting this list of items in it \n",
        "materials = [\n",
        "    'brick',\n",
        "    'broken dishes',\n",
        "    'discarded clothing',\n",
        "    'dust',\n",
        "    'glass',\n",
        "    'leaves',\n",
        "    'mud',\n",
        "    'paper',\n",
        "    'plastic',\n",
        "    'roots',\n",
        "    'sand',\n",
        "    'steel',\n",
        "    'stone',\n",
        "    'straw',\n",
        "    'tin',\n",
        "    'weeds',\n",
        "    'wood'\n",
        "]"
      ]
    },
    {
      "cell_type": "code",
      "execution_count": 4,
      "metadata": {
        "id": "FKgNtVaok0OX"
      },
      "outputs": [],
      "source": [
        "# same for a variable called \"locations\"\n",
        "# note that you have already learned the technical names for TWO data types:\n",
        "# strings, which we discussed in the previous notebook; and lists, which are\n",
        "# what these lists of things are technically called. Note that you can always\n",
        "# tell that something is a list in Python because its items are enclosed in\n",
        "# square brackets.  \n",
        "locations = [\n",
        "    'among high mountains',\n",
        "    'among other houses',\n",
        "    'among small hills',\n",
        "    'by a river',\n",
        "    'by an abandoned lake',\n",
        "    'by the sea',\n",
        "    'in a cold, windy climate',\n",
        "    'in a deserted airport',\n",
        "    'in a deserted church',\n",
        "    'in a deserted factory',\n",
        "    'in a green, mossy terrain',\n",
        "    'in a hot climate',\n",
        "    'in a metropolis',\n",
        "    'in a place with both heavy rain and bright sun',\n",
        "    'in an overpopulated area',\n",
        "    'in dense woods',\n",
        "    'in heavy jungle undergrowth',\n",
        "    'in japan',\n",
        "    'in michigan',\n",
        "    'in southern france',\n",
        "    'inside a mountain',\n",
        "    'on an island',\n",
        "    'on the sea',\n",
        "    'underwater'\n",
        "]"
      ]
    },
    {
      "cell_type": "code",
      "execution_count": null,
      "metadata": {
        "id": "7xNw5xD9k0OY"
      },
      "outputs": [],
      "source": [
        "# another list called \"lights\"\n",
        "lights = [\n",
        "    'all available lighting',\n",
        "    'candles',\n",
        "    'electricity',\n",
        "    'natural light'\n",
        "]"
      ]
    },
    {
      "cell_type": "code",
      "execution_count": null,
      "metadata": {
        "id": "CMiTQEKpk0Oa"
      },
      "outputs": [],
      "source": [
        "# and another called \"inhabitants\"\n",
        "inhabitants = [\n",
        "    'all races of men represented wearing predominantly red clothing',\n",
        "    'children and old people',\n",
        "    'collectors of all types',\n",
        "    'fishermen and families',\n",
        "    'french and german speaking people',\n",
        "    'friends',\n",
        "    'friends and enemies',\n",
        "    'horses and birds',\n",
        "    'little boys',\n",
        "    'lovers',\n",
        "    'people from many walks of life',\n",
        "    'people speaking many languages wearing little or no clothing',\n",
        "    'people who eat a great deal',\n",
        "    'people who enjoy eating together',\n",
        "    'people who love to read',\n",
        "    'people who sleep almost all the time',\n",
        "    'people who sleep very little',\n",
        "    'various birds and fish',\n",
        "    'vegetarians',\n",
        "    'very tall people'\n",
        "]"
      ]
    },
    {
      "cell_type": "code",
      "execution_count": null,
      "metadata": {
        "id": "jQUdVejJk0Ob",
        "outputId": "9c70cf93-81ff-4130-e18f-88448128833f"
      },
      "outputs": [
        {
          "name": "stdout",
          "output_type": "stream",
          "text": [
            "\n",
            "A house of weeds\n",
            "     in michigan\n",
            "          using candles\n",
            "                inhabited by people who enjoy eating together\n",
            "\n",
            "A house of brick\n",
            "     among small hills\n",
            "          using natural light\n",
            "                inhabited by friends and enemies\n",
            "\n",
            "A house of straw\n",
            "     in japan\n",
            "          using natural light\n",
            "                inhabited by collectors of all types\n",
            "\n",
            "A house of roots\n",
            "     on the sea\n",
            "          using electricity\n",
            "                inhabited by people who sleep very little\n",
            "\n",
            "A house of mud\n",
            "     in a green, mossy terrain\n",
            "          using all available lighting\n",
            "                inhabited by various birds and fish\n",
            "\n",
            "A house of tin\n",
            "     in a place with both heavy rain and bright sun\n",
            "          using candles\n",
            "                inhabited by people who love to read\n",
            "\n",
            "A house of steel\n",
            "     in a deserted airport\n",
            "          using electricity\n",
            "                inhabited by little boys\n"
          ]
        }
      ],
      "source": [
        "# this variable sets the number of stanzas\n",
        "stanza_count = 7\n",
        "\n",
        "# and this is a loop. it runs however many times we set the\n",
        "# stanza_count to be, and it picks a random material, location, \n",
        "# light, and inhabitant, printed out in the staggered format\n",
        "# that you see\n",
        "for i in range(stanza_count):\n",
        "    print()\n",
        "    print(\"A house of \" + random.choice(materials))\n",
        "    print(\"     \" + random.choice(locations))\n",
        "    print(\"          using \" + random.choice(lights))\n",
        "    print(\"                inhabited by \" + random.choice(inhabitants))"
      ]
    },
    {
      "cell_type": "markdown",
      "metadata": {
        "id": "oh2_LJVlk0Ob"
      },
      "source": [
        "## Love Letter Generator\n",
        "\n",
        "Original by Christopher Strachey, written for the Manchester Mark I in 1952. [Read more here](https://grandtextauto.soe.ucsc.edu/2005/08/01/christopher-strachey-first-digital-artist/).\n",
        "\n",
        "Vocabulary based on [this implementation](https://github.com/gingerbeardman/loveletter/blob/master/index.php)."
      ]
    },
    {
      "cell_type": "code",
      "execution_count": null,
      "metadata": {
        "id": "cbyeZuW9k0Oc"
      },
      "outputs": [],
      "source": [
        "# Can you recognize what this is?!\n",
        "sal_adjs = [\n",
        "    \"Beloved\",\n",
        "    \"Darling\",\n",
        "    \"Dear\",\n",
        "    \"Dearest\",\n",
        "    \"Fanciful\",\n",
        "    \"Honey\"]"
      ]
    },
    {
      "cell_type": "code",
      "execution_count": null,
      "metadata": {
        "id": "hYith_Oek0Oc"
      },
      "outputs": [],
      "source": [
        "sal_nouns = [\n",
        "    \"Chickpea\",\n",
        "    \"Dear\",\n",
        "    \"Duck\",\n",
        "    \"Jewel\",\n",
        "    \"Love\",\n",
        "    \"Moppet\",\n",
        "    \"Sweetheart\"\n",
        "]"
      ]
    },
    {
      "cell_type": "code",
      "execution_count": null,
      "metadata": {
        "id": "HCo3xahAk0Oc"
      },
      "outputs": [],
      "source": [
        "adjs = [\n",
        "    'affectionate',\n",
        "    'amorous',\n",
        "    'anxious',\n",
        "    'avid',\n",
        "    'beautiful',\n",
        "    'breathless',\n",
        "    'burning',\n",
        "    'covetous',\n",
        "    'craving',\n",
        "    'curious',\n",
        "    'eager',\n",
        "    'fervent',\n",
        "    'fondest',\n",
        "    'loveable',\n",
        "    'lovesick',\n",
        "    'loving',\n",
        "    'passionate',\n",
        "    'precious',\n",
        "    'seductive',\n",
        "    'sweet',\n",
        "    'sympathetic',\n",
        "    'tender',\n",
        "    'unsatisfied',\n",
        "    'winning',\n",
        "    'wistful'\n",
        "]"
      ]
    },
    {
      "cell_type": "code",
      "execution_count": null,
      "metadata": {
        "id": "tdojRPR0k0Od"
      },
      "outputs": [],
      "source": [
        "nouns = [\n",
        "    'adoration',\n",
        "    'affection',\n",
        "    'ambition',\n",
        "    'appetite',\n",
        "    'ardour',\n",
        "    'being',\n",
        "    'burning',\n",
        "    'charm',\n",
        "    'craving',\n",
        "    'desire',\n",
        "    'devotion',\n",
        "    'eagerness',\n",
        "    'enchantment',\n",
        "    'enthusiasm',\n",
        "    'fancy',\n",
        "    'fellow feeling',\n",
        "    'fervour',\n",
        "    'fondness',\n",
        "    'heart',\n",
        "    'hunger',\n",
        "    'infatuation',\n",
        "    'little liking',\n",
        "    'longing',\n",
        "    'love',\n",
        "    'lust',\n",
        "    'passion',\n",
        "    'rapture',\n",
        "    'sympathy',\n",
        "    'thirst',\n",
        "    'wish',\n",
        "    'yearning'\n",
        "]"
      ]
    },
    {
      "cell_type": "code",
      "execution_count": null,
      "metadata": {
        "id": "uybuCXAJk0Od"
      },
      "outputs": [],
      "source": [
        "advs = [\n",
        "    'affectionately',\n",
        "    'ardently',\n",
        "    'anxiously',\n",
        "    'beautifully',\n",
        "    'burningly',\n",
        "    'covetously',\n",
        "    'curiously',\n",
        "    'eagerly',\n",
        "    'fervently',\n",
        "    'fondly',\n",
        "    'impatiently',\n",
        "    'keenly',\n",
        "    'lovingly',\n",
        "    'passionately',\n",
        "    'seductively',\n",
        "    'tenderly',\n",
        "    'wistfully'\n",
        "]"
      ]
    },
    {
      "cell_type": "code",
      "execution_count": null,
      "metadata": {
        "id": "q9rM3JpLk0Od"
      },
      "outputs": [],
      "source": [
        "verbs = [\n",
        "    'adores',\n",
        "    'attracts',\n",
        "    'clings to',\n",
        "    'holds dear',\n",
        "    'hopes for',\n",
        "    'hungers for',\n",
        "    'likes',\n",
        "    'longs for',\n",
        "    'loves',\n",
        "    'lusts after',\n",
        "    'pants for',\n",
        "    'pines for',\n",
        "    'sighs for',\n",
        "    'tempts',\n",
        "    'thirsts for',\n",
        "    'treasures',\n",
        "    'yearns for',\n",
        "    'woos'\n",
        "]"
      ]
    },
    {
      "cell_type": "markdown",
      "source": [
        "The implementation of this one is slightly more complicated, so let's see if we can work through what the code is doing. But if not, not to worry! We might not even get this far in the class!"
      ],
      "metadata": {
        "id": "RQsy0wmSoEJD"
      }
    },
    {
      "cell_type": "code",
      "execution_count": null,
      "metadata": {
        "id": "wYHaVAkZk0Oe",
        "outputId": "02cfd32d-8811-401a-a888-7dbfddce2de8"
      },
      "outputs": [
        {
          "name": "stdout",
          "output_type": "stream",
          "text": [
            "Dearest Love,\n",
            "\n",
            "You are my lovesick fellow feeling. My ardour tempts your\n",
            "sympathetic affection. My lust fervently hungers for your\n",
            "unsatisfied desire. My fondness anxiously lusts after your\n",
            "fellow feeling. You are my precious yearning.\n",
            "\n",
            "Yours beautifully,\n",
            "M.U.C.\n"
          ]
        }
      ],
      "source": [
        "# textwrap library used to \"wrap\" the text at a particular length\n",
        "import textwrap\n",
        "\n",
        "# output begins with salutation\n",
        "output = random.choice(sal_adjs) + \" \" + random.choice(sal_nouns) + \",\\n\"\n",
        "output += \"\\n\"\n",
        "\n",
        "# inside this loop, build the phrases. strachey implemented \"short\" phrases\n",
        "# and \"long\" phrases; two or more \"short\" phrases in a row have special\n",
        "# formatting rules, so we need to know what the last phrase kind was in\n",
        "# order to generate the output.\n",
        "history = []\n",
        "body = \"\"\n",
        "for i in range(5):\n",
        "    kind = random.choice([\"short\", \"long\"])\n",
        "    if kind == \"long\":\n",
        "        # adjectives and adverbs will be present only 50% of the time\n",
        "        line = \" \".join([\n",
        "            \"My\",\n",
        "            random.choice([random.choice(adjs), \"\"]),\n",
        "            random.choice(nouns),\n",
        "            random.choice([random.choice(advs), \"\"]),\n",
        "            random.choice(verbs),\n",
        "            \"your\",\n",
        "            random.choice([random.choice(adjs), \"\"]),\n",
        "            random.choice(nouns)])\n",
        "        body += line\n",
        "    else:\n",
        "        adj_noun = random.choice(adjs) + \" \" + random.choice(nouns)\n",
        "        # if the last phrase was \"short,\" use truncated form\n",
        "        if len(history) > 0 and history[-1] == \"short\":\n",
        "            body += \": my \" + adj_noun\n",
        "        else:\n",
        "            body += \"You are my \" + adj_noun\n",
        "    body += \". \"\n",
        "    history.append(kind)\n",
        "# clean up output\n",
        "body = body.replace(\"  \", \" \")\n",
        "body = body.replace(\". :\", \":\")\n",
        "# put everything together\n",
        "output += textwrap.fill(body, 60)\n",
        "output += \"\\n\\nYours \" + random.choice(advs) + \",\\n\"\n",
        "output += \"M.U.C.\"\n",
        "print(output)"
      ]
    },
    {
      "cell_type": "markdown",
      "metadata": {
        "id": "rtSSC9t4k0Oe"
      },
      "source": [
        "## Taroko Gorge\n",
        "\n",
        "[Original](http://nickm.com/taroko_gorge/) by [Nick Montfort](http://nickm.com/). [ELMCIP entry here](https://elmcip.net/creative-work/taroko-gorge)."
      ]
    },
    {
      "cell_type": "code",
      "execution_count": null,
      "metadata": {
        "id": "AWZ4ZQtIk0Og"
      },
      "outputs": [],
      "source": [
        "above = ['brow', 'mist', 'shape', 'layer', 'the crag', 'stone', 'forest', 'height']\n",
        "below = ['flow', 'basin', 'shape', 'vein', 'rippling', 'stone', 'cove', 'rock']\n",
        "transitive = ['command', 'pace', 'roam', 'trail', 'frame', 'sweep', 'exercise', 'range']\n",
        "imperative = ['track', 'shade', 'translate', 'stamp', 'progress through', 'direct', 'run', 'enter']\n",
        "intransitive = ['linger', 'dwell', 'rest', 'relax', 'hold', 'dream', 'hum']\n",
        "texture = ['rough', 'fine']\n",
        "adjectives = ['encompassing', 'sinuous', 'straight', 'objective', 'arched', 'cool', 'clear', 'dim', 'driven']"
      ]
    },
    {
      "cell_type": "code",
      "execution_count": null,
      "metadata": {
        "id": "-3UYbZC8k0Oi"
      },
      "outputs": [],
      "source": [
        "def path():\n",
        "    plural = random.sample([\"s\", \"\"], k=2)\n",
        "    words = random.choice(above)\n",
        "    if words == \"forest\" and random.randrange(4) == 0:\n",
        "        words = \"monkeys\" + \" \" + random.choice(transitive)\n",
        "    else:\n",
        "        words += plural[0] + \" \" + random.choice(transitive) + plural[1]\n",
        "    words += \" the \" + random.choice(below) + random.choice([\"s\", \"\"]) + \".\"\n",
        "    return words.capitalize()"
      ]
    },
    {
      "cell_type": "code",
      "execution_count": null,
      "metadata": {
        "id": "5BRxYmMKk0Oi"
      },
      "outputs": [],
      "source": [
        "def cave():\n",
        "    adjs = adjectives[:] + random.sample(texture, 1)\n",
        "    return \"  \" + random.choice(imperative) + \" \" + \\\n",
        "        \" \".join(random.sample(adjs, random.randrange(1, 4))) + \" —\""
      ]
    },
    {
      "cell_type": "code",
      "execution_count": null,
      "metadata": {
        "id": "QTxzTFDfk0Oj"
      },
      "outputs": [],
      "source": [
        "def site():\n",
        "    if random.randrange(2) == 0:\n",
        "        words = random.choice(above)\n",
        "    else:\n",
        "        words = random.choice(below)\n",
        "    words += \"s \" + random.choice(intransitive) + \".\"\n",
        "    return words.capitalize()"
      ]
    },
    {
      "cell_type": "code",
      "execution_count": null,
      "metadata": {
        "id": "bCE7QEGqk0Oj",
        "outputId": "be09cbd4-d643-4e12-ab0c-7e37493a5859"
      },
      "outputs": [
        {
          "name": "stdout",
          "output_type": "stream",
          "text": [
            "Layer frames the ripplings.\n",
            "Stones relax.\n",
            "Mist trails the rocks.\n",
            "\n",
            "  translate rough —\n",
            "\n",
            "Heights roam the rocks.\n",
            "Stones dream.\n",
            "Stones dream.\n",
            "Shape frames the coves.\n",
            "\n",
            "  progress through sinuous fine dim —\n",
            "\n",
            "Brows trail the shapes.\n",
            "Stone trails the flow.\n",
            "\n",
            "  run encompassing —\n",
            "\n",
            "Stones command the stones.\n",
            "Brow sweeps the stone.\n",
            "\n",
            "  progress through sinuous cool dim —\n",
            "\n",
            "Mists command the coves.\n",
            "Veins hum.\n",
            "Shapes dream.\n",
            "Shapes pace the vein.\n",
            "\n",
            "  stamp driven objective encompassing —\n",
            "\n",
            "Forests range the cove.\n",
            "Flows rest.\n",
            "Forests hold.\n",
            "Mists frame the veins.\n",
            "\n",
            "  enter driven —\n",
            "\n",
            "Height paces the flow.\n",
            "Ripplings dwell.\n",
            "Brow commands the stones.\n",
            "\n",
            "  enter fine —\n",
            "\n",
            "Brows roam the flow.\n",
            "Basins hum.\n",
            "Shape frames the veins.\n",
            "\n",
            "  progress through clear —\n",
            "\n",
            "The crag exercises the flow.\n",
            "Forests rest.\n",
            "Layer frames the flows.\n",
            "\n",
            "  translate encompassing objective sinuous —\n",
            "\n",
            "Heights sweep the coves.\n",
            "Shapes trail the stones.\n",
            "\n",
            "  stamp driven —\n",
            "\n"
          ]
        }
      ],
      "source": [
        "stanza_count = 10\n",
        "for repeat in range(stanza_count):\n",
        "    line_count = random.randrange(3, 6)\n",
        "    for i in range(line_count):\n",
        "        if i == 0:\n",
        "            print(path())\n",
        "        elif i == line_count - 2:\n",
        "            print(path())\n",
        "        elif i == line_count - 1:\n",
        "            print()\n",
        "            print(cave())\n",
        "            print()\n",
        "        else:\n",
        "            print(site())"
      ]
    }
  ],
  "metadata": {
    "kernelspec": {
      "display_name": "Python 3",
      "language": "python",
      "name": "python3"
    },
    "language_info": {
      "codemirror_mode": {
        "name": "ipython",
        "version": 3
      },
      "file_extension": ".py",
      "mimetype": "text/x-python",
      "name": "python",
      "nbconvert_exporter": "python",
      "pygments_lexer": "ipython3",
      "version": "3.6.5"
    },
    "colab": {
      "provenance": []
    }
  },
  "nbformat": 4,
  "nbformat_minor": 0
}
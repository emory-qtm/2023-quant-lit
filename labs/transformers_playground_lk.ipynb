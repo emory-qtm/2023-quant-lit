{
  "cells": [
    {
      "cell_type": "markdown",
      "id": "53d44a9e",
      "metadata": {
        "id": "53d44a9e"
      },
      "source": [
        "# Playing with transformers\n",
        "\n",
        "*Notebook created by Lauren Klein, borrowing heavily from material created by Allison Parrish for her \"Playing with Transformers\" notebook*\n",
        "\n",
        "We'll begin by installing the transformers library, and then importing the relevant parts of the library as well as a few additional print formatting libraries that I like to use.\n",
        "\n"
      ]
    },
    {
      "cell_type": "code",
      "source": [
        "!pip3 install transformers"
      ],
      "metadata": {
        "id": "FNU3i6ETThTb"
      },
      "id": "FNU3i6ETThTb",
      "execution_count": null,
      "outputs": []
    },
    {
      "cell_type": "code",
      "execution_count": null,
      "id": "2d6c019c",
      "metadata": {
        "scrolled": true,
        "id": "2d6c019c"
      },
      "outputs": [],
      "source": [
        "import textwrap # for nice wrapping\n",
        "\n",
        "from transformers import pipeline, AutoModelForCausalLM, AutoTokenizer"
      ]
    },
    {
      "cell_type": "markdown",
      "source": [
        "Set parameters:"
      ],
      "metadata": {
        "id": "88andd10Towj"
      },
      "id": "88andd10Towj"
    },
    {
      "cell_type": "code",
      "execution_count": null,
      "id": "8cd686cf",
      "metadata": {
        "id": "8cd686cf"
      },
      "outputs": [],
      "source": [
        "# for the GPU\n",
        "device_name = 'cuda'       \n",
        "\n",
        "tokenizer = AutoTokenizer.from_pretrained('distilgpt2')\n",
        "model = AutoModelForCausalLM.from_pretrained('distilgpt2')"
      ]
    },
    {
      "cell_type": "markdown",
      "id": "1c78ce45",
      "metadata": {
        "id": "1c78ce45"
      },
      "source": [
        "## Generation in more detail (advanced, but interesting)\n",
        "\n",
        "So now we'll go a little bit under the hood. \n",
        "\n",
        "What's actually happening when you ask the model to generate text is this: \n",
        "\n",
        "First, you encode the prompt as a sequence of IDs using the tokenizer (remember this from the last notebook). \n",
        "\n",
        "Then, the model assigns a probability to every token in the tokenizer's vocabulary, based on which tokens it thinks are most likely to come next. \n",
        "\n",
        "Here's what it looks like to run that process \"by hand,\" so to speak. \n",
        "\n",
        "First, create the prompt:"
      ]
    },
    {
      "cell_type": "code",
      "execution_count": null,
      "id": "f3c65459",
      "metadata": {
        "id": "f3c65459"
      },
      "outputs": [],
      "source": [
        "prompt = \"Two roads diverged in a yellow wood, and\""
      ]
    },
    {
      "cell_type": "markdown",
      "id": "1eed01b9",
      "metadata": {
        "id": "1eed01b9"
      },
      "source": [
        "Then encode the prompt as a sequence of token IDs:"
      ]
    },
    {
      "cell_type": "code",
      "execution_count": null,
      "id": "3de8d01d",
      "metadata": {
        "id": "3de8d01d"
      },
      "outputs": [],
      "source": [
        "prompt_encoded = tokenizer([prompt], return_tensors=\"pt\")\n",
        "\n",
        "prompt_encoded"
      ]
    },
    {
      "cell_type": "markdown",
      "id": "17d893e3",
      "metadata": {
        "id": "17d893e3"
      },
      "source": [
        "Then we call the model (\"distilgpt2\") as though it were a function, passing in the key/value pairs that the tokenizer returned as parameters (using [Python's `**` operator](https://docs.python.org/3/tutorial/controlflow.html#unpacking-argument-lists)) for unpacking argument lists:"
      ]
    },
    {
      "cell_type": "code",
      "execution_count": null,
      "id": "7f145c1f",
      "metadata": {
        "id": "7f145c1f"
      },
      "outputs": [],
      "source": [
        "result = model(**prompt_encoded)"
      ]
    },
    {
      "cell_type": "markdown",
      "id": "d2e13385",
      "metadata": {
        "id": "d2e13385"
      },
      "source": [
        "The value returned from calling the model is an object with various attributes that we can examine. \n",
        "\n",
        "I'm most interested in `.logits`, which is a PyTorch tensor that contains information about the probability that the model assigned to each vocabulary item. (\"Tensor\" btw is just a fancy word for \"array with a bunch of dimensions.\") The prediction for the next token can be found in the very last row of this tensor:"
      ]
    },
    {
      "cell_type": "code",
      "execution_count": null,
      "id": "67979471",
      "metadata": {
        "id": "67979471"
      },
      "outputs": [],
      "source": [
        "next_token_probs = result.logits[0,-1]\n",
        "\n",
        "next_token_probs"
      ]
    },
    {
      "cell_type": "markdown",
      "id": "56d2cfd7",
      "metadata": {
        "id": "56d2cfd7"
      },
      "source": [
        "The scores are shown in \"raw\" form, meaning that they don't have the kinds of values that we would normally associate with a probability distribution (i.e., multiple options all adding up to one). But we can still compare them in this state. Higher numbers mean higher probability.\n",
        "\n",
        "This tensor has a shape that corresponds to the number of vocabulary items in that particular model:"
      ]
    },
    {
      "cell_type": "code",
      "execution_count": null,
      "id": "7c7770a9",
      "metadata": {
        "id": "7c7770a9"
      },
      "outputs": [],
      "source": [
        "next_token_probs.shape"
      ]
    },
    {
      "cell_type": "markdown",
      "id": "20efcde3",
      "metadata": {
        "id": "20efcde3"
      },
      "source": [
        "And we can actually inquire about the probability of particular tokens by looking them up. The code in the following cells uses the tokenizer's `.encode()` method to convert a token to its ID, then looks up the ID by index in the array with the predictions. (The `.item()` call converts the resulting PyTorch tensor to a native Python value, which just makes the result a bit easier to look at.)"
      ]
    },
    {
      "cell_type": "code",
      "execution_count": null,
      "id": "a54d3d07",
      "metadata": {
        "id": "a54d3d07"
      },
      "outputs": [],
      "source": [
        "next_token_probs[tokenizer.encode(' the')].item()"
      ]
    },
    {
      "cell_type": "code",
      "execution_count": null,
      "id": "258b656e",
      "metadata": {
        "id": "258b656e"
      },
      "outputs": [],
      "source": [
        "next_token_probs[tokenizer.encode(' x')].item()"
      ]
    },
    {
      "cell_type": "code",
      "execution_count": null,
      "id": "35266957",
      "metadata": {
        "id": "35266957"
      },
      "outputs": [],
      "source": [
        "next_token_probs[tokenizer.encode(' an')].item()"
      ]
    },
    {
      "cell_type": "markdown",
      "id": "ce625991",
      "metadata": {
        "id": "ce625991"
      },
      "source": [
        "We can see that the tokens ` the` and ` an` have fairly high probability, while the token ` x` has low probability.  Interesting!\n",
        "\n",
        "### Generating text, the home-grown way\n",
        "\n",
        "Using the PyTorch library, we can get a list of the most likely tokens to come next. (This has some dark magic in it if you're not familiar with PyTorch—or another array processing library like NumPy—so... just trust me for a sec.)"
      ]
    },
    {
      "cell_type": "code",
      "execution_count": null,
      "id": "c0cff0a4",
      "metadata": {
        "id": "c0cff0a4"
      },
      "outputs": [],
      "source": [
        "import torch\n",
        "for idx in reversed(torch.argsort(next_token_probs)[-12:]):\n",
        "    print(\"'\" + tokenizer.decode(idx) + \"'\")"
      ]
    },
    {
      "cell_type": "markdown",
      "id": "97c8cc46",
      "metadata": {
        "id": "97c8cc46"
      },
      "source": [
        "(Again, I've added in the quotation marks so you can clearly see that these tokens have whitespace at the beginning.) These are the top twelve tokens to come next in the sequence, as predicted by the model. One way to *generate* a text would be to take one of these tokens—maybe the top-scoring token, maybe one of the top *n* picked at random, append it to our original list of tokens, ask the model to make a prediction on *that* list of tokens, and repeat. The loop would look something like this:"
      ]
    },
    {
      "cell_type": "code",
      "execution_count": null,
      "id": "165247bd",
      "metadata": {
        "id": "165247bd"
      },
      "outputs": [],
      "source": [
        "import random\n",
        "\n",
        "prompt = \"Two roads diverged in a yellow wood, and\"\n",
        "for i in range(10):\n",
        "    # encode the prompt\n",
        "    prompt_encoded = tokenizer([prompt], return_tensors=\"pt\")\n",
        "    # run a forward pass on the network\n",
        "    result = model(**prompt_encoded)\n",
        "    # get the probabilities for the next word\n",
        "    next_token_probs = result.logits[0,-1]\n",
        "    # sort by value, get the top 12 (you can change this number! try 1, or 1000)\n",
        "    nexts = torch.argsort(next_token_probs)[-12:]\n",
        "    # append the decoded ID to the current prompt\n",
        "    prompt += tokenizer.decode(random.choice(nexts))\n",
        "    print(prompt)"
      ]
    },
    {
      "cell_type": "markdown",
      "id": "73fb8fb9",
      "metadata": {
        "id": "73fb8fb9"
      },
      "source": [
        "### The `.generate()` method\n",
        "\n",
        "Our home-grown solution above does the job, but it's very rudimentary. Because generating text is such a common use-case, the Transformers library provides a `.generate()` method that is quite fast and also has a bunch of bells and whistles that we can exploit to add expressiveness to our use of the language model. Under the hood, though, the `.generate()` method is essentially doing exactly what we did above—iteratively constructing a string based on predicted tokens from the model. Use the `.generate()` method like this:"
      ]
    },
    {
      "cell_type": "code",
      "execution_count": null,
      "id": "40aea2d3",
      "metadata": {
        "id": "40aea2d3"
      },
      "outputs": [],
      "source": [
        "prompt = \"Two roads diverged in a yellow wood, and\"\n",
        "prompt_encoded = tokenizer(prompt, return_tensors=\"pt\") # the \"return_tensors\" thing is important!\n",
        "result = model.generate(**prompt_encoded)[0]\n",
        "tokenizer.decode(result, skip_special_tokens=True)"
      ]
    },
    {
      "cell_type": "markdown",
      "id": "e92aef49",
      "metadata": {
        "id": "e92aef49"
      },
      "source": [
        "For a more detailed overview of all of the ways you can use `.generate()`, see [How to generate](https://huggingface.co/blog/how-to-generate) on the Hugging Face blog. One argument of `.generate()` that is useful right off the bat is `max_length`, which continues the generation process for the number of tokens you specify:"
      ]
    },
    {
      "cell_type": "code",
      "execution_count": null,
      "id": "144cc102",
      "metadata": {
        "id": "144cc102"
      },
      "outputs": [],
      "source": [
        "prompt = \"Two roads diverged in a yellow wood, and\"\n",
        "prompt_encoded = tokenizer(prompt, return_tensors=\"pt\")\n",
        "result = model.generate(**prompt_encoded, max_length=250)[0] # note the addition of the max length here \n",
        "tokenizer.decode(result, skip_special_tokens=True)"
      ]
    },
    {
      "cell_type": "markdown",
      "id": "ea940807",
      "metadata": {
        "id": "ea940807"
      },
      "source": [
        "### Back to the pipeline\n",
        "\n",
        "The process of encoding the prompt and decoding the results is pretty tedious. That's why the \"pipeline\" was invented. The `text-generation` pipeline takes care of encoding and decoding for you. Create a pipeline by calling `pipeline` with `text-generation` as the first parameter, and then the model and tokenizer that you want to use:"
      ]
    },
    {
      "cell_type": "code",
      "execution_count": null,
      "id": "5b73ec86",
      "metadata": {
        "id": "5b73ec86"
      },
      "outputs": [],
      "source": [
        "generator = pipeline('text-generation', model=model, tokenizer=tokenizer)"
      ]
    },
    {
      "cell_type": "markdown",
      "id": "bbb3539f",
      "metadata": {
        "id": "bbb3539f"
      },
      "source": [
        "And then you can generate text with the pipeline. The first argument is the prompt; any remaining parameters will be forwarded to the model's `.generate()` method."
      ]
    },
    {
      "cell_type": "code",
      "execution_count": null,
      "id": "f7c8e6a2",
      "metadata": {
        "scrolled": true,
        "id": "f7c8e6a2"
      },
      "outputs": [],
      "source": [
        "generator(\"Two roads diverged in a yellow\", max_length=100)"
      ]
    },
    {
      "cell_type": "markdown",
      "id": "e5f4cc74",
      "metadata": {
        "id": "e5f4cc74"
      },
      "source": [
        "As a reminder, to get the actual generated text, use indexing to get the value of the dictionary in the list returned from the pipeline:"
      ]
    },
    {
      "cell_type": "code",
      "execution_count": null,
      "id": "93ef297e",
      "metadata": {
        "id": "93ef297e"
      },
      "outputs": [],
      "source": [
        "generator(\"Two roads diverged in a yellow\", max_length=100)[0]['generated_text']"
      ]
    },
    {
      "cell_type": "markdown",
      "source": [
        "And print it even more nicely:"
      ],
      "metadata": {
        "id": "mzq9NM5bXUMQ"
      },
      "id": "mzq9NM5bXUMQ"
    },
    {
      "cell_type": "code",
      "source": [
        "print(textwrap.fill(generator(\"Two roads diverged in a yellow\", max_length=100)[0]['generated_text'], 60))"
      ],
      "metadata": {
        "id": "C0QVd6ZkXWMh"
      },
      "id": "C0QVd6ZkXWMh",
      "execution_count": null,
      "outputs": []
    },
    {
      "cell_type": "markdown",
      "id": "6e84bb46",
      "metadata": {
        "id": "6e84bb46"
      },
      "source": [
        "## Controlling the model\n",
        "\n",
        "By default, the `distilgpt2` model samples from the possible next tokens, weighted by the probability assigned to that token. This strategy leads to text that shows a good deal of variety, but there are strategies that we can use and parameters that we can tweak to exert a little more control over the model's output. In this section, I show a few of these strategies.\n",
        "\n",
        "### The magic of the prompt\n",
        "\n",
        "Transformer models are often able to follow up on cues you give about the desired content and style of the text in the prompt itself. The smaller transformer models aren't especially good at this, but it's still worth playing around with. For example, to get `distilgpt2` to generate something that looks like a movie review:"
      ]
    },
    {
      "cell_type": "code",
      "execution_count": null,
      "id": "9f51c882",
      "metadata": {
        "id": "9f51c882"
      },
      "outputs": [],
      "source": [
        "print(textwrap.fill(generator(\"My review of The Road Not Taken, the Movie:\", max_length=100)[0]['generated_text'], 60))"
      ]
    },
    {
      "cell_type": "markdown",
      "id": "d643be14",
      "metadata": {
        "id": "d643be14"
      },
      "source": [
        "You can also generate dialogues and interview transcripts:"
      ]
    },
    {
      "cell_type": "code",
      "execution_count": null,
      "id": "0295ee5c",
      "metadata": {
        "id": "0295ee5c"
      },
      "outputs": [],
      "source": [
        "print(textwrap.fill(generator(\"Lauren: I took the road less traveled by.\\nRobert Frost:\", max_length=100)[0]['generated_text'], 60))"
      ]
    },
    {
      "cell_type": "markdown",
      "id": "06de3603",
      "metadata": {
        "id": "06de3603"
      },
      "source": [
        "Poetry facts:"
      ]
    },
    {
      "cell_type": "code",
      "execution_count": null,
      "id": "cfc9a4c0",
      "metadata": {
        "id": "cfc9a4c0"
      },
      "outputs": [],
      "source": [
        "print(textwrap.fill(generator(\"My favorite facts about poetry:\\n\\n1.\", max_length=100)[0]['generated_text'], 60))"
      ]
    },
    {
      "cell_type": "markdown",
      "id": "2e80b074",
      "metadata": {
        "id": "2e80b074"
      },
      "source": [
        "In general, this kind of prompting works best with texts that are likely to have a lot of representation in the training corpus."
      ]
    },
    {
      "cell_type": "markdown",
      "id": "81363f7a",
      "metadata": {
        "id": "81363f7a"
      },
      "source": [
        "### Sampling with temperature\n",
        "\n",
        "As mentioned above, the `distilgpt2` model, by default, picks the next token at random, weighted by the probability that the model assigns to the word. To demonstrate how this works, let's imagine that the model only has five tokens in its vocabulary (instead of 50,000+). A schematic illustration of those probabilities might look like this:\n",
        "\n",
        "    prompt: Whose woods these are I think I\n",
        "    probabilities:\n",
        "        know -> 0.5\n",
        "        knew -> 0.2\n",
        "        smell -> 0.15\n",
        "        see -> 0.1\n",
        "        am -> 0.05\n"
      ]
    },
    {
      "cell_type": "markdown",
      "id": "15474aa6",
      "metadata": {
        "id": "15474aa6"
      },
      "source": [
        "The probabilities will add up to `1.0`. A probability of `0.5` indicates that the token has a 50% probability of coming next; a probability of 0.2 means that the token has a 20% probability of coming next, etc. Here are those probabilities represented in Python as two lists—one with the words, and one with the probabilities that correspond to those words by index:"
      ]
    },
    {
      "cell_type": "code",
      "execution_count": null,
      "id": "67854938",
      "metadata": {
        "id": "67854938"
      },
      "outputs": [],
      "source": [
        "tokens = ['know', 'knew', 'smell', 'see', 'am']\n",
        "probs = [0.5, 0.2, 0.15, 0.1, 0.05]"
      ]
    },
    {
      "cell_type": "markdown",
      "id": "f95c6404",
      "metadata": {
        "id": "f95c6404"
      },
      "source": [
        "By default, to select the next token, the generation code picks from this list weighted by probability. The code to do this with PyTorch looks like this:"
      ]
    },
    {
      "cell_type": "code",
      "execution_count": null,
      "id": "b9f85011",
      "metadata": {
        "id": "b9f85011"
      },
      "outputs": [],
      "source": [
        "index = torch.multinomial(torch.tensor(probs), 1).item()\n",
        "print(tokens[index])"
      ]
    },
    {
      "cell_type": "markdown",
      "id": "636e2d8c",
      "metadata": {
        "id": "636e2d8c"
      },
      "source": [
        "You don't have to worry about the specifics of this code—I'm just using it to demonstrate how the sampling process works. Run the code a few times and you'll see that about half the time you get \"knew\"—the token with the highest probability. Running the code in a loop makes this a bit easier to see:"
      ]
    },
    {
      "cell_type": "code",
      "execution_count": null,
      "id": "af732dd1",
      "metadata": {
        "id": "af732dd1"
      },
      "outputs": [],
      "source": [
        "for i in range(10):\n",
        "    index = torch.multinomial(torch.tensor(probs), 1).item()\n",
        "    print(tokens[index])"
      ]
    },
    {
      "cell_type": "markdown",
      "id": "d12d2fcf",
      "metadata": {
        "id": "d12d2fcf"
      },
      "source": [
        "The generation process has a parameter called *temperature*, which lets you shift the probability distribution of the next token before it's sampled. If the temperature parameter is `1.0`, then sampling will proceed as normal, with the tokens weighted by their estimated probability. If the temperature parameter is less than `1.0`, then tokens that were already probable will get *more* probable. If the temperature parameter is greater than `1.0`, then the probabilities start to even out, approaching a uniform distribution (meaning that no token is more likely to be chosen than any other). To demonstrate this, I've written some code below that applies temperature to the probabilities defined above, and shows the resulting changes:"
      ]
    },
    {
      "cell_type": "code",
      "execution_count": null,
      "id": "2fa5775f",
      "metadata": {
        "id": "2fa5775f"
      },
      "outputs": [],
      "source": [
        "for temperature in [0.1, 0.35, 1.0, 2.0, 50.0]:\n",
        "    modified = torch.softmax(\n",
        "        torch.log(torch.tensor(probs)) / temperature, dim=-1)\n",
        "    print(f\"temperature {temperature:0.02f}\")\n",
        "    for tok, prob in zip(tokens, modified):\n",
        "        print(tok.ljust(6), \"→\", f\"{prob:0.002f}\")\n",
        "    print()"
      ]
    },
    {
      "cell_type": "markdown",
      "id": "7c095c57",
      "metadata": {
        "id": "7c095c57"
      },
      "source": [
        "You can see that at temperature `1.0`, the probabilities are identical to the original. At temperature `0.35`, the probability of the most likely token has been boosted, but the other tokens still have a small chance of occurring. At temperature `0.1`, only the most likely token has a chance of being selected. At temperature `2.0`, the most likely token is still the most likely, but the probabilities of the other tokens have been boosted in comparison; at temperature `50.0`, no token is considered to be more likely than any other.\n",
        "\n",
        "To apply temperature sampling to the model when generating text, pass the `temperature` parameter to the pipeline, like so:"
      ]
    },
    {
      "cell_type": "code",
      "execution_count": null,
      "id": "13c5bccd",
      "metadata": {
        "id": "13c5bccd"
      },
      "outputs": [],
      "source": [
        "generator(\"Two roads diverged in a yellow\",\n",
        "          temperature=0.1,\n",
        "          max_length=100)[0]['generated_text']"
      ]
    },
    {
      "cell_type": "markdown",
      "id": "2b94bd84",
      "metadata": {
        "id": "2b94bd84"
      },
      "source": [
        "Low temperatures generally produce predictable, repetitive results. Here's an attempt with high temperature:"
      ]
    },
    {
      "cell_type": "code",
      "execution_count": null,
      "id": "93298377",
      "metadata": {
        "id": "93298377"
      },
      "outputs": [],
      "source": [
        "generator(\"Two roads diverged in a yellow\",\n",
        "          temperature=4.0,\n",
        "          max_length=100)[0]['generated_text']"
      ]
    },
    {
      "cell_type": "markdown",
      "id": "61a379f7",
      "metadata": {
        "id": "61a379f7"
      },
      "source": [
        "The higher temperature example produces less likely sequences of words, so the text is a bit livelier—sometimes at the cost of coherence.\n",
        "\n",
        "Adjusting the temperature can be useful when you want the text to be more or less \"weird.\" It can be helpful to adjust the temperature downward when you feel as though the model is producing text that is a bit too unpredictable; it can be helpful to adjust upward when you want to model to take more unexpected turns when generating."
      ]
    },
    {
      "cell_type": "markdown",
      "id": "22b2500c",
      "metadata": {
        "id": "22b2500c"
      },
      "source": [
        "### Top-k sampling\n",
        "\n",
        "By default, the generation process only selects from the top 50 most probable tokens at each step. This is called \"top-k filtering.\" Because of top-k filtering, you're not likely to sample truly unusual tokens even when the temperature is high. You can adjust the threshold for top-k filtering with the `top_k` parameter of the model. For example, adjusting `top_k` to the number of items in the vocabulary ensures that every token gets its chance:"
      ]
    },
    {
      "cell_type": "code",
      "execution_count": null,
      "id": "bf4d73cb",
      "metadata": {
        "id": "bf4d73cb"
      },
      "outputs": [],
      "source": [
        "generator(\"Two roads diverged in a yellow\",\n",
        "          top_k=tokenizer.vocab_size,\n",
        "          max_length=100)[0]['generated_text']"
      ]
    },
    {
      "cell_type": "markdown",
      "id": "1fa7b265",
      "metadata": {
        "id": "1fa7b265"
      },
      "source": [
        "Using this with a temperature greater than `1.0` can yield some unusual turns of phrase:"
      ]
    },
    {
      "cell_type": "code",
      "execution_count": null,
      "id": "0b690453",
      "metadata": {
        "id": "0b690453"
      },
      "outputs": [],
      "source": [
        "generator(\"Two roads diverged in a yellow\",\n",
        "          top_k=tokenizer.vocab_size,\n",
        "          temperature=1.2,\n",
        "          max_length=100)[0]['generated_text']"
      ]
    },
    {
      "cell_type": "markdown",
      "source": [
        "Formatted more nicely:"
      ],
      "metadata": {
        "id": "udwi2MzRY_1H"
      },
      "id": "udwi2MzRY_1H"
    },
    {
      "cell_type": "code",
      "source": [
        "print(textwrap.fill(generator(\"Two roads diverged in a yellow\",\n",
        "          top_k=tokenizer.vocab_size,\n",
        "          temperature=1.2,\n",
        "          max_length=100)[0]['generated_text']), 60)"
      ],
      "metadata": {
        "id": "vDk0HOKsZBkD"
      },
      "id": "vDk0HOKsZBkD",
      "execution_count": null,
      "outputs": []
    },
    {
      "cell_type": "markdown",
      "id": "1843eaef",
      "metadata": {
        "id": "1843eaef"
      },
      "source": [
        "On the other extreme, setting the `top_k` value to `1` ensures that *only* the most likely token is chosen at each step. This is the same thing as [\"greedy decoding\"](https://huggingface.co/transformers/main_classes/model.html#transformers.generation_utils.GenerationMixin.greedy_search):"
      ]
    },
    {
      "cell_type": "code",
      "execution_count": null,
      "id": "ef3b18b7",
      "metadata": {
        "id": "ef3b18b7"
      },
      "outputs": [],
      "source": [
        "print(textwrap.fill(generator(\"Two roads diverged in a yellow\",\n",
        "          top_k=1,\n",
        "          max_length=100)[0]['generated_text'], 60))"
      ]
    },
    {
      "cell_type": "markdown",
      "id": "4e343fed",
      "metadata": {
        "id": "4e343fed"
      },
      "source": [
        "Playing around with `top_k` and `temperature` in tandem is a good way to make adjustments to the texture of your generated text."
      ]
    },
    {
      "cell_type": "markdown",
      "id": "3d87511e",
      "metadata": {
        "id": "3d87511e"
      },
      "source": [
        "### Logit warping: Exclude \"bad\" words\n",
        "\n",
        "The `.generate()` method has a parameter called `bad_words_ids`, which causes the model to zero out the probabilities of tokens associated with words that you pass in. The intended use of this feature is to stop the model from generating offensive or harmful words. But we can also repurpose it for poetic purposes. For example, in the cell below, I make the model complete the prompt \"It was a dark and stormy\" *without* using the words \"night\" or \"day\":"
      ]
    },
    {
      "cell_type": "code",
      "execution_count": null,
      "id": "e691ce3e",
      "metadata": {
        "id": "e691ce3e"
      },
      "outputs": [],
      "source": [
        "print(textwrap.fill(generator(\"It was a dark and stormy\",\n",
        "          bad_words_ids=tokenizer([\" night\", \" day\"]).input_ids)[0]['generated_text'], 60))"
      ]
    },
    {
      "cell_type": "markdown",
      "id": "4cdc646c",
      "metadata": {
        "id": "4cdc646c"
      },
      "source": [
        "The syntax for specifying the \"bad words\" is to call the tokenizer on a list of words that you want to exclude, and then get the `.input_ids` attribute of the value returned from calling the tokenizer. This yields a list of lists that looks like this:"
      ]
    },
    {
      "cell_type": "code",
      "execution_count": null,
      "id": "8a18221f",
      "metadata": {
        "id": "8a18221f"
      },
      "outputs": [],
      "source": [
        "tokenizer([\"Lauren\", \"Klein\"]).input_ids"
      ]
    },
    {
      "cell_type": "markdown",
      "id": "e44e2879",
      "metadata": {
        "id": "e44e2879"
      },
      "source": [
        "Note that I used ` night` and ` day` as the words, with leading spaces—this is necessary because I ended the prompt without whitespace, so the model is likely to generate a token with leading whitespace at the next step. I've found that the `bad_words_ids` parameter works best if your list of words includes versions both with and without whitespace.\n",
        "\n",
        "Here's another example: getting the model to complete a prompt without using any forms of the verb *to be*:"
      ]
    },
    {
      "cell_type": "code",
      "execution_count": null,
      "id": "a5c7fc50",
      "metadata": {
        "id": "a5c7fc50"
      },
      "outputs": [],
      "source": [
        "print(textwrap.fill(generator(\"Once upon a time,\",\n",
        "          bad_words_ids=tokenizer(\n",
        "              [\"be\", \" be\",\n",
        "               \"am\", \" am\",\n",
        "               \"are\", \" are\",\n",
        "               \"is\", \" is\",\n",
        "               \"was\", \" was\",\n",
        "               \"were\", \" were\"]).input_ids,\n",
        "          max_length=100)[0]['generated_text'], 60))"
      ]
    },
    {
      "cell_type": "markdown",
      "id": "bec6a2df",
      "metadata": {
        "id": "bec6a2df"
      },
      "source": [
        "You can also create a list of token IDs that you want to exclude on the fly. In the following example, I make a list of token IDs that have the letter `e` in them, and pass that list to the `bad_words_ids` parameter:"
      ]
    },
    {
      "cell_type": "code",
      "execution_count": null,
      "id": "9dd76bc3",
      "metadata": {
        "scrolled": true,
        "id": "9dd76bc3"
      },
      "outputs": [],
      "source": [
        "forbidden_ids = []\n",
        "for key, val in tokenizer.get_vocab().items():\n",
        "    if 'e' in key:\n",
        "        forbidden_ids.append([val]) # needs to be a list of lists\n",
        "print(textwrap.fill(generator(\"Last month, I\",\n",
        "          bad_words_ids=forbidden_ids,\n",
        "          max_length=100)[0]['generated_text']), 60)"
      ]
    },
    {
      "cell_type": "markdown",
      "id": "5db6369e",
      "metadata": {
        "id": "5db6369e"
      },
      "source": [
        "### Fine-tuning a model -- SKIP IF LOW ON TIME!\n",
        "\n",
        "\"Fine-tuning\" is a way of slightly modifying a model by training it a few extra steps on a corpus of your choice. This process adjusts the probabilities of the model so that it more closely reflects the probabilities of the source text you train it on. Fine-tuning models with Transformers is a little bit tricky! First, you'll need to install Hugging Face's `datasets` package:"
      ]
    },
    {
      "cell_type": "code",
      "execution_count": null,
      "id": "66e3757c",
      "metadata": {
        "id": "66e3757c"
      },
      "outputs": [],
      "source": [
        "!pip3 install datasets"
      ]
    },
    {
      "cell_type": "markdown",
      "id": "46e0395a",
      "metadata": {
        "id": "46e0395a"
      },
      "source": [
        "And then import it:"
      ]
    },
    {
      "cell_type": "code",
      "execution_count": null,
      "id": "6f4d68e2",
      "metadata": {
        "id": "6f4d68e2"
      },
      "outputs": [],
      "source": [
        "import datasets"
      ]
    },
    {
      "cell_type": "markdown",
      "id": "3ab81720",
      "metadata": {
        "id": "3ab81720"
      },
      "source": [
        "You'll want to select a text file to fine-tune the model on. Fine-tuning works best on large amounts of text, but fine-tuning is also very slow if you're not using a GPU. \n",
        "\n",
        "For demonstration purposes, I create a special version of [Frankenstein](https://www.gutenberg.org/ebooks/84) that contains only the first 20000 characters, and save it to a local file:"
      ]
    },
    {
      "cell_type": "code",
      "execution_count": null,
      "id": "35a2a3c1",
      "metadata": {
        "id": "35a2a3c1"
      },
      "outputs": [],
      "source": [
        "import requests \n",
        "\n",
        "resp = requests.get('https://www.gutenberg.org/files/84/84-0.txt')\n",
        "text = resp.text[:20000]\n",
        "\n",
        "with open(\"84-0-20k.txt\", \"w\") as fh:\n",
        "  fh.write(text)"
      ]
    },
    {
      "cell_type": "markdown",
      "id": "1221ac91",
      "metadata": {
        "id": "1221ac91"
      },
      "source": [
        "Then I load this text file as my fine-tuning dataset:"
      ]
    },
    {
      "cell_type": "code",
      "execution_count": null,
      "id": "9a037218",
      "metadata": {
        "id": "9a037218"
      },
      "outputs": [],
      "source": [
        "training_data = datasets.load_dataset('text', data_files=\"84-0-20k.txt\")"
      ]
    },
    {
      "cell_type": "markdown",
      "id": "b31f0ead",
      "metadata": {
        "id": "b31f0ead"
      },
      "source": [
        "Now, there's a bunch of obligatory processing that we need to do to the data in order to prepare it for the model. This is boilerplate stuff, which I'm not going to go into in detail. If you want details, consult Hugging Face's [fine-tuning language models notebook](https://github.com/huggingface/notebooks/blob/master/examples/language_modeling.ipynb).\n",
        "\n",
        "First, we tokenize the text:"
      ]
    },
    {
      "cell_type": "code",
      "execution_count": null,
      "id": "dc75a5ff",
      "metadata": {
        "id": "dc75a5ff"
      },
      "outputs": [],
      "source": [
        "# uncomment these if you needed to restart the runtime above and need to re-import necessary libraries\n",
        "# from transformers import pipeline, AutoModelForCausalLM, AutoTokenizer\n",
        "\n",
        "# tokenizer = AutoTokenizer.from_pretrained('distilgpt2')\n",
        "# model = AutoModelForCausalLM.from_pretrained('distilgpt2')\n",
        "\n",
        "tokenizer.pad_token = tokenizer.eos_token\n",
        "tokenized_training_data = training_data.map(\n",
        "    lambda x: tokenizer(x['text']),\n",
        "    remove_columns=[\"text\"]\n",
        ")"
      ]
    },
    {
      "cell_type": "markdown",
      "id": "ea41f005",
      "metadata": {
        "id": "ea41f005"
      },
      "source": [
        "Then we break the tokenized text up into batches of tokens:"
      ]
    },
    {
      "cell_type": "code",
      "execution_count": null,
      "id": "595b9bf0",
      "metadata": {
        "id": "595b9bf0"
      },
      "outputs": [],
      "source": [
        "block_size = 64\n",
        "# magic from https://github.com/huggingface/notebooks/blob/master/examples/language_modeling.ipynb\n",
        "def group_texts(examples):\n",
        "    concatenated_examples = {k: sum(examples[k], []) for k in examples.keys()}\n",
        "    total_length = len(concatenated_examples[list(examples.keys())[0]])\n",
        "    total_length = (total_length // block_size) * block_size\n",
        "    result = {\n",
        "        k: [t[i : i + block_size] for i in range(0, total_length, block_size)]\n",
        "        for k, t in concatenated_examples.items()\n",
        "    }\n",
        "    result[\"labels\"] = result[\"input_ids\"].copy()\n",
        "    return result\n",
        "lm_training_data = tokenized_training_data.map(\n",
        "    group_texts,\n",
        "    batched=True,\n",
        "    batch_size=200\n",
        ")"
      ]
    },
    {
      "cell_type": "markdown",
      "id": "5e522074",
      "metadata": {
        "id": "5e522074"
      },
      "source": [
        "Now we import the `Trainer` class, which implements a training loop."
      ]
    },
    {
      "cell_type": "code",
      "execution_count": null,
      "id": "eee70cb2",
      "metadata": {
        "id": "eee70cb2"
      },
      "outputs": [],
      "source": [
        "from transformers import Trainer, TrainingArguments"
      ]
    },
    {
      "cell_type": "markdown",
      "id": "a12058c0",
      "metadata": {
        "id": "a12058c0"
      },
      "source": [
        "Running the following cell creates the `Trainer` object. The `output_dir` parameter specifies a directory where your fine-tuned model will be saved. The `num_train_epochs` sets how many \"epochs\" the trainer will run; one epoch is one iteration over the entire dataset. More epochs is better, but even one epoch can significantly change the way the model generates text."
      ]
    },
    {
      "cell_type": "code",
      "execution_count": null,
      "id": "6d5359f1",
      "metadata": {
        "id": "6d5359f1"
      },
      "outputs": [],
      "source": [
        "trainer = Trainer(model=model,\n",
        "                  train_dataset=lm_training_data['train'],\n",
        "                  args=TrainingArguments(\n",
        "                      output_dir='distilgpt2-finetune-frankenstein20k',\n",
        "                      num_train_epochs=1,\n",
        "                      do_train=True,\n",
        "                      do_eval=False\n",
        "                  ),\n",
        "                  tokenizer=tokenizer)"
      ]
    },
    {
      "cell_type": "markdown",
      "id": "22076634",
      "metadata": {
        "id": "22076634"
      },
      "source": [
        "Finally, the cell below will start the training process. If you're running this on a computer without a GPU, it will take a while."
      ]
    },
    {
      "cell_type": "code",
      "execution_count": null,
      "id": "a0a974bb",
      "metadata": {
        "scrolled": false,
        "id": "a0a974bb"
      },
      "outputs": [],
      "source": [
        "trainer.train()"
      ]
    },
    {
      "cell_type": "markdown",
      "id": "bda411f7",
      "metadata": {
        "id": "bda411f7"
      },
      "source": [
        "Running the cell below will save the model to disk:"
      ]
    },
    {
      "cell_type": "code",
      "execution_count": null,
      "id": "f18e00fe",
      "metadata": {
        "id": "f18e00fe"
      },
      "outputs": [],
      "source": [
        "trainer.save_model()"
      ]
    },
    {
      "cell_type": "markdown",
      "id": "474a59af",
      "metadata": {
        "id": "474a59af"
      },
      "source": [
        "Now you can generate with the fine-tuned model! The fine-tuning process modifies the model in-place, so the `pipeline` you created before will make use of the fine-tuned model. (Note that if you want to get the original `distilgpt2` back, you'll need to reload it with the `.from_pretrained()` method, as demonstrated at the top of the notebook.)"
      ]
    },
    {
      "cell_type": "code",
      "execution_count": null,
      "id": "6f7769a0",
      "metadata": {
        "id": "6f7769a0"
      },
      "outputs": [],
      "source": [
        "# uncomment the line below if you needed to restart your runtime\n",
        "# generator = pipeline('text-generation', model=model, tokenizer=tokenizer)\n",
        "\n",
        "generator(\"Two roads diverged in a yellow\", max_length=100)[0]['generated_text']"
      ]
    },
    {
      "cell_type": "markdown",
      "id": "798333f5",
      "metadata": {
        "id": "798333f5"
      },
      "source": [
        "You can see that fine-tuning on even a small dataset produces big changes in the model.\n",
        "\n",
        "If you want to use your fine-tuned model in another project, use the same syntax that we used above to load `distilgpt2`—just replace `distilgpt2` with the name of the directory where you saved your model:\n",
        "\n",
        "*Note that this is slightly more complicated for Colab, so if you want to do this for the class please just ask me for how to sync with Google Drive*"
      ]
    },
    {
      "cell_type": "code",
      "execution_count": null,
      "id": "ed9960c9",
      "metadata": {
        "id": "ed9960c9"
      },
      "outputs": [],
      "source": [
        "my_tokenizer = AutoTokenizer.from_pretrained('distilgpt2-finetune-frankenstein20k')\n",
        "my_model = AutoModelForCausalLM.from_pretrained('distilgpt2-finetune-frankenstein20k')"
      ]
    },
    {
      "cell_type": "markdown",
      "id": "4c62d434",
      "metadata": {
        "id": "4c62d434"
      },
      "source": [
        "Now generate with it:"
      ]
    },
    {
      "cell_type": "code",
      "execution_count": null,
      "id": "201ab0c9",
      "metadata": {
        "id": "201ab0c9"
      },
      "outputs": [],
      "source": [
        "my_generator = pipeline(\"text-generation\", model=my_model, tokenizer=my_tokenizer)"
      ]
    },
    {
      "cell_type": "code",
      "execution_count": null,
      "id": "8de43360",
      "metadata": {
        "id": "8de43360"
      },
      "outputs": [],
      "source": [
        "my_generator(\"Two roads diverged in a yellow\")[0]['generated_text']"
      ]
    },
    {
      "cell_type": "code",
      "source": [],
      "metadata": {
        "id": "IcQWRu8ad8CW"
      },
      "id": "IcQWRu8ad8CW",
      "execution_count": null,
      "outputs": []
    }
  ],
  "metadata": {
    "kernelspec": {
      "display_name": "Python 3 (ipykernel)",
      "language": "python",
      "name": "python3"
    },
    "language_info": {
      "codemirror_mode": {
        "name": "ipython",
        "version": 3
      },
      "file_extension": ".py",
      "mimetype": "text/x-python",
      "name": "python",
      "nbconvert_exporter": "python",
      "pygments_lexer": "ipython3",
      "version": "3.9.13"
    },
    "colab": {
      "provenance": []
    }
  },
  "nbformat": 4,
  "nbformat_minor": 5
}